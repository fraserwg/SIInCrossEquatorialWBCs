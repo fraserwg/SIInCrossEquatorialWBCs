{
 "cells": [
  {
   "cell_type": "markdown",
   "metadata": {},
   "source": [
    "# A python based solution to the BVP\n",
    "\n",
    "Symmetric instability leads to the generation of overturning cells which can be described by a streamfunction with the equation $\\psi(x, z, t) = \\sum_m \\hat{\\psi}(x) e^{i(mz -\\omega t)}$. During the linear phase of its development its evolution is governed by the following boundary value problem\n",
    "\n",
    "$$-\\frac{N^2 }{m^2}\\, \\frac{d^2\\hat{\\psi}}{dx^2} + f \\zeta \\hat{\\psi} = \\hat{\\omega}^2 \\hat{\\psi}\\,$$\n",
    "\n",
    "where $\\hat{\\omega} = \\omega + i A_r m^2$ is an eigenvalue of the equation and the eigenfunction $\\hat{\\psi}(x)$ gives the horizontal part of the overturning streamfunction.\n",
    "\n",
    "To solve the problem we discretise the $x$ coordinate which allows us to write a matrix representation of the left hand side of the equation. The matrix acts on a vector representation of $\\hat{\\psi}$ to give eigenvalues and eigenfunctions which can be easily found using standard numerical linear algebra routines."
   ]
  },
  {
   "cell_type": "markdown",
   "metadata": {},
   "source": [
    "## Imports"
   ]
  },
  {
   "cell_type": "code",
   "execution_count": null,
   "metadata": {},
   "outputs": [],
   "source": [
    "import numpy as np\n",
    "import scipy\n",
    "from scipy.sparse.linalg import eigs\n",
    "import scipy.sparse as sps\n",
    "from scipy.optimize import minimize_scalar\n",
    "import xarray as xr\n",
    "import matplotlib\n",
    "import matplotlib.pyplot as plt\n",
    "import cmocean\n",
    "import cmocean.cm as cmo"
   ]
  },
  {
   "cell_type": "markdown",
   "metadata": {},
   "source": [
    "Check the version numbers. The versions I used are listed in the `environment.yml` file"
   ]
  },
  {
   "cell_type": "code",
   "execution_count": null,
   "metadata": {},
   "outputs": [],
   "source": [
    "print(np.__version__)\n",
    "print(scipy.__version__)\n",
    "print(matplotlib.__version__)\n",
    "print(xr.__version__)\n",
    "print(cmocean.__version__)"
   ]
  },
  {
   "cell_type": "markdown",
   "metadata": {},
   "source": [
    "## Parameters of the problem\n",
    "\n",
    "Below we set parameters relating to the domain size (including grid spacing) and the flow itself. We also create a matrix representation of the $f\\zeta$ and $\\frac{d^2}{dx^2}$ operators.\n",
    "\n",
    "When running this notebook I reccomend increasing the grid-spacing (`dx`) to something larger ($\\sim$`2e3` should still give ok results). The value of `1e2` was used here for producing publication quality figures and is overkill even for that.\n",
    "\n",
    "If you want to play around with different vorticity profiles this can be done by redefining `zeta` in the below code to return the absolute vorticity profile you fancy."
   ]
  },
  {
   "cell_type": "code",
   "execution_count": null,
   "metadata": {},
   "outputs": [],
   "source": [
    "Lx = 400e3  # Domain width in m\n",
    "dx = 1e2  # Grid spacing in m \n",
    "nx = int(Lx / dx)  # Number of grid points\n",
    "x = np.arange(0, nx * dx, dx)  # x coordinates in m\n",
    "\n",
    "N2 = 2.5e-5  # Buoyancy frequency (squared) in s^{-2}\n",
    "f = 1.01e-5  # Planetary vorticity in s^{-1}\n",
    "A_r = 4e-4  # Viscosity in m^{2} s^{-1}\n",
    "\n",
    "x_mid = 40e3  # Mid point of the jet in m\n",
    "delta_b = 30e3  # Width of the jet in m\n",
    "V_0 = 0.87  # Velocity of the jet in m/s\n",
    "\n",
    "\n",
    "def zeta(x):\n",
    "    \"\"\" returns the absolute vorticity at x in s^{-1}\n",
    "    \"\"\"\n",
    "    rel_vort = - 2 * V_0 / delta_b * np.tanh((x - x_mid) / delta_b) / np.square(np.cosh((x - x_mid) / delta_b))\n",
    "    return rel_vort + f\n",
    "\n",
    "\n",
    "x_vorticity_minima = minimize_scalar(zeta, bounds=[0, Lx], method='bounded', options={'xatol': dx / 10}).x  # Gives x at the vorticity minima\n",
    "\n",
    "# Create a matrix representation of the curvature operator\n",
    "diagonals = np.array([1, -2, 1]) / np.square(dx)\n",
    "d2_dx2 = sps.diags(diagonals, offsets=[-1, 0, 1], shape=(nx, nx))\n",
    "\n",
    "# Create an array representation of the f * zeta operator\n",
    "f_zeta_arr = f * zeta(x) \n",
    "f_zeta = sps.dia_matrix(f_zeta_arr * np.identity(nx))"
   ]
  },
  {
   "cell_type": "markdown",
   "metadata": {},
   "source": [
    "## Solve the problem\n",
    "We now solve the eignvalue problem at predefined values of $\\lambda$ and $A_r$ (set in the first two lines). Eigenvalues and eigenfunctions are stored for each value of $\\lambda$ considered."
   ]
  },
  {
   "cell_type": "code",
   "execution_count": null,
   "metadata": {},
   "outputs": [],
   "source": [
    "# Create an array of vertical wavelengths at which to solve the eigenvalue problem.\n",
    "# Increasing the number of lambda points will increase the run time\n",
    "lambda_arr = np.logspace(0, 2.5, num=500)\n",
    "\n",
    "# Create an array of vertical viscosities at which to calculate the instabilities growth rate\n",
    "# Increasing the number of viscosity points will not significantly alter the run time\n",
    "viscosity_arr = np.logspace(np.log10(5e-7), -2, num=500)\n",
    "\n",
    "def calculate_eigenvalue(lambda_val):\n",
    "    \"\"\" Calculates the eigenvalue of the LSA equation (i.e. \\hat{\\omega}^2)\n",
    "    \n",
    "    Arguments:\n",
    "    lambda_val (float)--> Value of lambda at which to solve the problem\n",
    "    \n",
    "    Returns:\n",
    "    eigan_val (tuple) --> first element is the eigenvalue, second the eigenfunction\n",
    "    \"\"\"\n",
    "    m = 2 * np.pi / lambda_val\n",
    "    m2 = np.square(m)\n",
    "    eigen_operator = -N2 / m2 * d2_dx2 + f_zeta\n",
    "    eigen_val = eigs(eigen_operator, k=1, which='SR', return_eigenvectors=True)\n",
    "    return eigen_val\n",
    "\n",
    "# Create empty arrays in which to store the eigenvalues and the eigenfunctions\n",
    "eigen_value_arr = np.empty_like(lambda_arr, dtype='complex')\n",
    "psi_arr = np.empty((lambda_arr.size, x.size, 1), dtype='complex')\n",
    "\n",
    "# Looping over the different wavelengths calculate the eigenvalues and eigenfunctions of the\n",
    "# least stable mode.\n",
    "for ii in range(len(lambda_arr)):\n",
    "    eigen_value_arr[ii], psi_arr[ii] = calculate_eigenvalue(lambda_arr[ii])\n",
    "\n",
    "psi_arr = psi_arr.squeeze().real  # Get rid of the extra dimension of the eigenfunction array. Get rid of the complex part (should be zero anyway)"
   ]
  },
  {
   "cell_type": "markdown",
   "metadata": {},
   "source": [
    "Here we continue the analysis and store the output in an xarray output which makes many calculations easier than if we stuck with the numpy arrays previously obtained. We perform some further calculation such as calculating the growth rate from the raw eigenvalues, calculating the least stable wavelengths at each value of $A_r$ etc."
   ]
  },
  {
   "cell_type": "code",
   "execution_count": null,
   "metadata": {},
   "outputs": [],
   "source": [
    "# Analysis is made easier by converting the eigenfunctions and eigenvalues into xarray objects.\n",
    "ds = xr.Dataset(coords={'lambda': lambda_arr, 'viscosity': viscosity_arr, 'lon': x})\n",
    "ds['eigen_value'] = ds['lambda'].copy(data=eigen_value_arr)\n",
    "ds['psi_unnormalised'] = (('lambda', 'lon'), psi_arr)\n",
    "\n",
    "\n",
    "ds['m'] = 2 * np.pi / ds['lambda']\n",
    "ds['m2'] = np.square(ds['m'])\n",
    "\n",
    "\n",
    "# Calculate the growth rate from the eigenvalues\n",
    "ds['omega_hat'] = ds['lambda'].copy(data=np.lib.scimath.sqrt(ds['eigen_value']))\n",
    "ds['omega'] = ds['omega_hat'] - 1j * ds['viscosity'] * ds['m2']\n",
    "ds['sigma'] = ds['omega'].where(ds['omega'].imag >= 0).imag.transpose('viscosity', 'lambda')  # Selects sigma >= 0 at the same time\n",
    "ds['sigma_normalised'] = ds['sigma'] / f\n",
    "\n",
    "\n",
    "# Calculate the wavelength of the least stable vertical mode as a function of the viscosity\n",
    "ds['lambda_unstable'] = ds['sigma'].idxmax(dim='lambda')\n",
    "ds['sigma_unstable'] = ds['sigma'].max('lambda')\n",
    "ds['time_scale_days'] = 1 / (ds['sigma_unstable'] * 24 * 60 * 60)\n",
    "\n",
    "# Apply one of two normalisations to the streamfunction to enable comparisons\n",
    "ds['psi_sign_corrected'] = np.sign(ds['psi_unnormalised'].sel({'lon': x_vorticity_minima}, method='nearest')) * ds['psi_unnormalised']  # Correct the sign\n",
    "ds['psi_norm_area'] = ds['psi_sign_corrected'] / ds['psi_sign_corrected'].sum('lon')  # Gives the normalised streamfunction\n",
    "ds['psi_norm_max'] = ds['psi_sign_corrected'] / ds['psi_sign_corrected'].sel({'lon': x_vorticity_minima}, method='nearest')\n",
    "\n",
    "\n",
    "ds"
   ]
  },
  {
   "cell_type": "markdown",
   "metadata": {},
   "source": [
    "Calculate the time scale and wavelength for a viscosity of `A_r` and `1e-6`"
   ]
  },
  {
   "cell_type": "code",
   "execution_count": null,
   "metadata": {},
   "outputs": [],
   "source": [
    "print('Times scale:', ds['time_scale_days'].sel({'viscosity': A_r}, method='nearest').values, 'days')\n",
    "print('Wavelength:', ds['lambda_unstable'].sel({'viscosity': A_r}, method='nearest').values, 'metres')"
   ]
  },
  {
   "cell_type": "code",
   "execution_count": null,
   "metadata": {},
   "outputs": [],
   "source": [
    "print('Times scale:', ds['time_scale_days'].sel({'viscosity': 1e-6}, method='nearest').values, 'days')\n",
    "print('Wavelength:', ds['lambda_unstable'].sel({'viscosity': 1e-6}, method='nearest').values, 'metres')"
   ]
  },
  {
   "cell_type": "markdown",
   "metadata": {},
   "source": [
    "## Visualise the output"
   ]
  },
  {
   "cell_type": "code",
   "execution_count": null,
   "metadata": {},
   "outputs": [],
   "source": [
    "# Set plotting defaults to make the plots look nice\n",
    "plt.rc('font', family='serif', size='7')\n",
    "plt.rc('xtick', labelsize='5')\n",
    "plt.rc('ytick', labelsize='5')\n",
    "plt.rc('text', usetex=False)\n",
    "plt.rcParams['axes.titlesize'] = 7"
   ]
  },
  {
   "cell_type": "markdown",
   "metadata": {},
   "source": [
    "Plot the dispersion relation"
   ]
  },
  {
   "cell_type": "code",
   "execution_count": null,
   "metadata": {},
   "outputs": [],
   "source": [
    "fig, ax = plt.subplots(figsize=[3.1, 1.9])\n",
    "\n",
    "cax = ax.contourf(ds['lambda'], ds['viscosity'], ds['sigma_normalised'], levels=np.linspace(0, 1.2, 11), cmap=cmo.amp)\n",
    "cb = plt.colorbar(cax)\n",
    "cb.set_label('$\\sigma / f$', rotation=0, labelpad=15)\n",
    "\n",
    "ax.plot(ds['lambda_unstable'], ds['viscosity'], '-.k', lw=1, label='$\\\\lambda^*(A_r)$')\n",
    "ax.legend(loc='upper left')\n",
    "\n",
    "ax.set_xscale('log')\n",
    "ax.set_yscale('log')\n",
    "ax.set_xlim(1, 300)\n",
    "ax.set_ylim(5e-7, 1.5e-2)\n",
    "\n",
    "ax.set_xlabel('$\\lambda$ (m)')\n",
    "ax.set_ylabel('$A_r$ (m$^2$\\,s$^{-1}$)')\n",
    "ax.set_title('Vertical scale selection')\n",
    "\n",
    "fig.tight_layout()\n",
    "plt.show()"
   ]
  },
  {
   "cell_type": "markdown",
   "metadata": {},
   "source": [
    "Plot the two dimensional streamfunction for a viscosity of `A_r`"
   ]
  },
  {
   "cell_type": "code",
   "execution_count": null,
   "metadata": {},
   "outputs": [],
   "source": [
    "# Define z and calculate psi(x, z)\n",
    "ds['z'] = np.linspace(-400, -0, num=100)\n",
    "lambda_unstable = ds['lambda_unstable'].sel({'viscosity': A_r}, method='nearest')\n",
    "psi2D = np.cos(2 * np.pi / lambda_unstable * ds['z']) * ds['psi_norm_max'].sel({'lambda': lambda_unstable}, method='nearest')\n",
    "\n",
    "# Plotting \n",
    "clim = 1.01\n",
    "\n",
    "fig, ax = plt.subplots(figsize=[3.1, 1.9])\n",
    "cax = ax.contourf(ds['lon'] * 1e-3, -ds['z'], psi2D, cmap=cmo.balance, levels = np.linspace(-clim, clim, 10), vmin=-clim, vmax=clim)\n",
    "cb = plt.colorbar(cax, ax=ax, ticks=np.linspace(-2, 2, 5), pad=0.19)\n",
    "cb.set_label('$\\psi$', rotation=0)\n",
    "\n",
    "ax.invert_yaxis()\n",
    "ax.set_xlabel('Longitude (km)')\n",
    "ax.set_ylabel('Depth (m)')\n",
    "ax.set_title('Overturning structure')\n",
    "ax.set_xticks(np.linspace(0, 400, 9))\n",
    "\n",
    "ax2 = ax.twinx()\n",
    "ax2.plot(x * 1e-3, zeta(ds['lon']) / f, 'k', lw=1.5)\n",
    "ax2.set_ylabel('$\\zeta / f$')\n",
    "ax2.axhline(0, c='k', ls=':')\n",
    "\n",
    "ax.set_xlim((0, 400))\n",
    "ax.set_xticks([0, 100, 200, 300, 400])\n",
    "ax.set_yticks([0, 100, 200, 300, 400])\n",
    "\n",
    "fig.tight_layout()\n",
    "plt.show()"
   ]
  },
  {
   "cell_type": "markdown",
   "metadata": {},
   "source": [
    "Plot $\\hat{\\psi}(x)$ for different wavelengths. This is not contained in the paper. Note this may take a while to run."
   ]
  },
  {
   "cell_type": "code",
   "execution_count": null,
   "metadata": {},
   "outputs": [],
   "source": [
    "fig, ax = plt.subplots()\n",
    "\n",
    "cax = ax.pcolor(ds['lon'] * 1e-3, ds['lambda'], ds['psi_norm_max'], shading='auto', cmap=cmo.matter, vmin=0, vmax=1)\n",
    "ax.set_ylabel('$\\lambda$ (m)')\n",
    "ax.set_xlabel('$x$ coordinate (km)')\n",
    "\n",
    "cb = fig.colorbar(cax)\n",
    "cb.set_label('$\\hat{\\psi}\\,(\\lambda, x)$', rotation=0, loc='center')\n",
    "\n",
    "ax.set_title('Normalised $\\hat{\\psi}$')\n",
    "ax.set_yscale('log')\n",
    "fig.tight_layout()"
   ]
  }
 ],
 "metadata": {
  "kernelspec": {
   "display_name": "Python 3.8 (base)",
   "language": "python",
   "name": "base"
  },
  "language_info": {
   "codemirror_mode": {
    "name": "ipython",
    "version": 3
   },
   "file_extension": ".py",
   "mimetype": "text/x-python",
   "name": "python",
   "nbconvert_exporter": "python",
   "pygments_lexer": "ipython3",
   "version": "3.8.5"
  }
 },
 "nbformat": 4,
 "nbformat_minor": 4
}
